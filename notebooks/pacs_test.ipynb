{
 "cells": [
  {
   "cell_type": "code",
   "execution_count": 1,
   "metadata": {},
   "outputs": [],
   "source": [
    "import os\n",
    "import sys\n",
    "sys.path.append(os.path.abspath('../'))\n",
    "\n",
    "import torch"
   ]
  },
  {
   "cell_type": "code",
   "execution_count": 2,
   "metadata": {},
   "outputs": [],
   "source": [
    "from dg_template.datasets.pacs import PACS, PACSDataModule, SemiPACSDataModule"
   ]
  },
  {
   "cell_type": "code",
   "execution_count": 3,
   "metadata": {},
   "outputs": [],
   "source": [
    "pacs = PACSDataModule(\n",
    "    root='../data/domainbed/pacs/',\n",
    "    train_environments=['P', 'A'],\n",
    "    test_environments=['C', 'S'],\n",
    "    validation_size=0.2,\n",
    "    random_state=42,\n",
    "    batch_size=128,\n",
    "    num_workers=0,\n",
    ")"
   ]
  },
  {
   "cell_type": "code",
   "execution_count": null,
   "metadata": {},
   "outputs": [],
   "source": [
    "train_loader = pacs.train_dataloader()\n",
    "for i, batch in enumerate(train_loader):\n",
    "    break"
   ]
  },
  {
   "cell_type": "code",
   "execution_count": 6,
   "metadata": {},
   "outputs": [],
   "source": [
    "val_loader = pacs.val_dataloader()\n",
    "for i, batch in enumerate(val_loader):\n",
    "    break"
   ]
  },
  {
   "cell_type": "code",
   "execution_count": 11,
   "metadata": {},
   "outputs": [],
   "source": [
    "pacs_semi = SemiPACSDataModule(\n",
    "    root='../data/domainbed/pacs',\n",
    "    train_environments=['P', 'A', 'C'],\n",
    "    test_environments=['S'],\n",
    "    validation_size=0.2,\n",
    "    labeled_size=0.05,\n",
    ")"
   ]
  },
  {
   "cell_type": "code",
   "execution_count": 13,
   "metadata": {},
   "outputs": [
    {
     "name": "stdout",
     "output_type": "stream",
     "text": [
      "66\n",
      "81\n",
      "93\n"
     ]
    }
   ],
   "source": [
    "for dataset in pacs_semi._labeled_datasets:\n",
    "    print(dataset.__len__())"
   ]
  },
  {
   "cell_type": "code",
   "execution_count": 14,
   "metadata": {},
   "outputs": [
    {
     "name": "stdout",
     "output_type": "stream",
     "text": [
      "1270\n",
      "1557\n",
      "1782\n"
     ]
    }
   ],
   "source": [
    "for dataset in pacs_semi._unlabeled_datasets:\n",
    "    print(dataset.__len__())"
   ]
  },
  {
   "cell_type": "code",
   "execution_count": 15,
   "metadata": {},
   "outputs": [
    {
     "name": "stdout",
     "output_type": "stream",
     "text": [
      "334\n",
      "410\n",
      "469\n"
     ]
    }
   ],
   "source": [
    "for dataset in pacs_semi._id_validation_datasets:\n",
    "    print(dataset.__len__())"
   ]
  },
  {
   "cell_type": "code",
   "execution_count": null,
   "metadata": {},
   "outputs": [],
   "source": []
  }
 ],
 "metadata": {
  "kernelspec": {
   "display_name": "torch-2.0",
   "language": "python",
   "name": "python3"
  },
  "language_info": {
   "codemirror_mode": {
    "name": "ipython",
    "version": 3
   },
   "file_extension": ".py",
   "mimetype": "text/x-python",
   "name": "python",
   "nbconvert_exporter": "python",
   "pygments_lexer": "ipython3",
   "version": "3.10.10"
  },
  "orig_nbformat": 4
 },
 "nbformat": 4,
 "nbformat_minor": 2
}
